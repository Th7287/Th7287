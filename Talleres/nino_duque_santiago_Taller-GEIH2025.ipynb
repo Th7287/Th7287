{
 "cells": [
  {
   "cell_type": "code",
   "execution_count": 2,
   "id": "a80068d6",
   "metadata": {},
   "outputs": [],
   "source": [
    "#Taller mercado laboral GEIH 2025\n",
    "#Hecho por: Santiago Niño Duque"
   ]
  },
  {
   "cell_type": "code",
   "execution_count": 3,
   "id": "88092168",
   "metadata": {},
   "outputs": [],
   "source": [
    "#Primero vamos a importar las librerias a usar\n",
    "import pandas as pd \n",
    "import numpy as np\n",
    "\n",
    "#Importando tambien los datos de la GEIH 2025, directamente desde el repositorio del profesor\n",
    "df_cgsse = pd.read_csv(\"https://github.com/niconomist98/DataAnalyticsUQ/raw/refs/heads/main/Datos/GEIH2025/cgsse.CSV\"\n",
    "                       ,encoding=\"latin\", sep= \";\") \n",
    "df_ft = pd.read_csv(\"https://github.com/niconomist98/DataAnalyticsUQ/raw/refs/heads/main/Datos/GEIH2025/Fuerza%20de%20trabajo.CSV\"\n",
    "                       ,encoding=\"latin\", sep= \";\", low_memory=False) \n",
    "df_ocupado = pd.read_csv(\"https://github.com/niconomist98/DataAnalyticsUQ/raw/refs/heads/main/Datos/GEIH2025/Ocupados.CSV\"\n",
    "                       ,encoding=\"latin\", sep= \";\", low_memory=False) \n",
    "df_desocupados = pd.read_csv(\"https://github.com/niconomist98/DataAnalyticsUQ/raw/refs/heads/main/Datos/GEIH2025/No%20ocupados.CSV\"\n",
    "                       ,encoding=\"latin\", sep= \";\") "
   ]
  },
  {
   "cell_type": "code",
   "execution_count": 4,
   "id": "75e16ed8",
   "metadata": {},
   "outputs": [
    {
     "name": "stdout",
     "output_type": "stream",
     "text": [
      "Población total de colombia: 52045001\n"
     ]
    }
   ],
   "source": [
    "# 1. Calculando la poblacion total de colombia: \n",
    "ptc = df_cgsse[\"FEX_C18\"].sum()\n",
    "print('Población total de colombia:', int(ptc))"
   ]
  },
  {
   "cell_type": "code",
   "execution_count": null,
   "id": "4e8d3730",
   "metadata": {},
   "outputs": [
    {
     "name": "stdout",
     "output_type": "stream",
     "text": [
      "La poblacion total sin edad para trabajar es: 8792393\n",
      "La poblacion total con edad para trabjar es: 43252607\n"
     ]
    }
   ],
   "source": [
    "#Poblacion en edad de trabajar \n",
    "\n",
    "sin_edad_trabajar = df_cgsse[df_cgsse['P6040']<12]['FEX_C18'].sum()\n",
    "edad_trabajar = df_cgsse[df_cgsse['P6040']>=12]['FEX_C18']\n",
    "total_edad_trabajar = df_cgsse[df_cgsse['P6040']>=12]['FEX_C18'].sum()\n",
    "\n",
    "print('La poblacion total sin edad para trabajar es:',int(sin_edad_trabajar))\n",
    "print('La poblacion total con edad para trabjar es:',int(total_edad_trabajar))\n",
    "\n",
    "df_cgsse['']"
   ]
  },
  {
   "cell_type": "code",
   "execution_count": null,
   "id": "50daba9a",
   "metadata": {},
   "outputs": [
    {
     "ename": "KeyError",
     "evalue": "'id'",
     "output_type": "error",
     "traceback": [
      "\u001b[31m---------------------------------------------------------------------------\u001b[39m",
      "\u001b[31mKeyError\u001b[39m                                  Traceback (most recent call last)",
      "\u001b[32m/tmp/ipykernel_1493/3217471851.py\u001b[39m in \u001b[36m?\u001b[39m\u001b[34m()\u001b[39m\n\u001b[32m      1\u001b[39m \u001b[38;5;66;03m#Calculado ahora la poblacion economicamente activa\u001b[39;00m\n\u001b[32m      2\u001b[39m \u001b[38;5;66;03m#definimos como poblacion activamente economica como\u001b[39;00m\n\u001b[32m----> \u001b[39m\u001b[32m3\u001b[39m df_poblacionAE = pd.merge(df_ocupado,df_desocupados, on=\u001b[33m'id'\u001b[39m, how=\u001b[33m'inner'\u001b[39m)\n",
      "\u001b[32m~/.local/lib/python3.12/site-packages/pandas/core/reshape/merge.py\u001b[39m in \u001b[36m?\u001b[39m\u001b[34m(left, right, how, on, left_on, right_on, left_index, right_index, sort, suffixes, copy, indicator, validate)\u001b[39m\n\u001b[32m    166\u001b[39m             validate=validate,\n\u001b[32m    167\u001b[39m             copy=copy,\n\u001b[32m    168\u001b[39m         )\n\u001b[32m    169\u001b[39m     \u001b[38;5;28;01melse\u001b[39;00m:\n\u001b[32m--> \u001b[39m\u001b[32m170\u001b[39m         op = _MergeOperation(\n\u001b[32m    171\u001b[39m             left_df,\n\u001b[32m    172\u001b[39m             right_df,\n\u001b[32m    173\u001b[39m             how=how,\n",
      "\u001b[32m~/.local/lib/python3.12/site-packages/pandas/core/reshape/merge.py\u001b[39m in \u001b[36m?\u001b[39m\u001b[34m(self, left, right, how, on, left_on, right_on, left_index, right_index, sort, suffixes, indicator, validate)\u001b[39m\n\u001b[32m    790\u001b[39m             self.right_join_keys,\n\u001b[32m    791\u001b[39m             self.join_names,\n\u001b[32m    792\u001b[39m             left_drop,\n\u001b[32m    793\u001b[39m             right_drop,\n\u001b[32m--> \u001b[39m\u001b[32m794\u001b[39m         ) = self._get_merge_keys()\n\u001b[32m    795\u001b[39m \n\u001b[32m    796\u001b[39m         \u001b[38;5;28;01mif\u001b[39;00m left_drop:\n\u001b[32m    797\u001b[39m             self.left = self.left._drop_labels_or_levels(left_drop)\n",
      "\u001b[32m~/.local/lib/python3.12/site-packages/pandas/core/reshape/merge.py\u001b[39m in \u001b[36m?\u001b[39m\u001b[34m(self)\u001b[39m\n\u001b[32m   1294\u001b[39m                         \u001b[38;5;66;03m# Then we're either Hashable or a wrong-length arraylike,\u001b[39;00m\n\u001b[32m   1295\u001b[39m                         \u001b[38;5;66;03m#  the latter of which will raise\u001b[39;00m\n\u001b[32m   1296\u001b[39m                         rk = cast(Hashable, rk)\n\u001b[32m   1297\u001b[39m                         \u001b[38;5;28;01mif\u001b[39;00m rk \u001b[38;5;28;01mis\u001b[39;00m \u001b[38;5;28;01mnot\u001b[39;00m \u001b[38;5;28;01mNone\u001b[39;00m:\n\u001b[32m-> \u001b[39m\u001b[32m1298\u001b[39m                             right_keys.append(right._get_label_or_level_values(rk))\n\u001b[32m   1299\u001b[39m                         \u001b[38;5;28;01melse\u001b[39;00m:\n\u001b[32m   1300\u001b[39m                             \u001b[38;5;66;03m# work-around for merge_asof(right_index=True)\u001b[39;00m\n\u001b[32m   1301\u001b[39m                             right_keys.append(right.index._values)\n",
      "\u001b[32m~/.local/lib/python3.12/site-packages/pandas/core/generic.py\u001b[39m in \u001b[36m?\u001b[39m\u001b[34m(self, key, axis)\u001b[39m\n\u001b[32m   1907\u001b[39m             values = self.xs(key, axis=other_axes[\u001b[32m0\u001b[39m])._values\n\u001b[32m   1908\u001b[39m         \u001b[38;5;28;01melif\u001b[39;00m self._is_level_reference(key, axis=axis):\n\u001b[32m   1909\u001b[39m             values = self.axes[axis].get_level_values(key)._values\n\u001b[32m   1910\u001b[39m         \u001b[38;5;28;01melse\u001b[39;00m:\n\u001b[32m-> \u001b[39m\u001b[32m1911\u001b[39m             \u001b[38;5;28;01mraise\u001b[39;00m KeyError(key)\n\u001b[32m   1912\u001b[39m \n\u001b[32m   1913\u001b[39m         \u001b[38;5;66;03m# Check for duplicates\u001b[39;00m\n\u001b[32m   1914\u001b[39m         \u001b[38;5;28;01mif\u001b[39;00m values.ndim > \u001b[32m1\u001b[39m:\n",
      "\u001b[31mKeyError\u001b[39m: 'id'"
     ]
    }
   ],
   "source": [
    "#Calculado ahora la poblacion economicamente activa\n",
    "#definimos como poblacion activamente economica como \n",
    "claves = ['P6040']\n",
    "df_poblacionAE = pd.merge(df_ocupado,df_desocupados, on='id', how='inner')"
   ]
  }
 ],
 "metadata": {
  "kernelspec": {
   "display_name": "Python 3",
   "language": "python",
   "name": "python3"
  },
  "language_info": {
   "codemirror_mode": {
    "name": "ipython",
    "version": 3
   },
   "file_extension": ".py",
   "mimetype": "text/x-python",
   "name": "python",
   "nbconvert_exporter": "python",
   "pygments_lexer": "ipython3",
   "version": "3.12.1"
  }
 },
 "nbformat": 4,
 "nbformat_minor": 5
}

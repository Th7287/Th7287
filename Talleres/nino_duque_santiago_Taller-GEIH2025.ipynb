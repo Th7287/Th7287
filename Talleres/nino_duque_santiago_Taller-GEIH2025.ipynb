{
 "cells": [
  {
   "cell_type": "code",
   "execution_count": 1,
   "id": "a80068d6",
   "metadata": {},
   "outputs": [],
   "source": [
    "#Taller mercado laboral GEIH 2025\n",
    "#Hecho por: Santiago Niño Duque y Santiago Montoya"
   ]
  },
  {
   "cell_type": "code",
   "execution_count": 2,
   "id": "88092168",
   "metadata": {},
   "outputs": [],
   "source": [
    "#Primero vamos a importar las librerias a usar\n",
    "import pandas as pd \n",
    "import numpy as np\n",
    "\n",
    "#Importando tambien los datos de la GEIH 2025, directamente desde el repositorio del profesor\n",
    "df_cgsse = pd.read_csv(\"https://github.com/niconomist98/DataAnalyticsUQ/raw/refs/heads/main/Datos/GEIH2025/cgsse.CSV\"\n",
    "                       ,encoding=\"latin\", sep= \";\") \n",
    "df_ft = pd.read_csv(\"https://github.com/niconomist98/DataAnalyticsUQ/raw/refs/heads/main/Datos/GEIH2025/Fuerza%20de%20trabajo.CSV\"\n",
    "                       ,encoding=\"latin\", sep= \";\", low_memory=False) \n",
    "df_ocupado = pd.read_csv(\"https://github.com/niconomist98/DataAnalyticsUQ/raw/refs/heads/main/Datos/GEIH2025/Ocupados.CSV\"\n",
    "                       ,encoding=\"latin\", sep= \";\", low_memory=False) \n",
    "df_desocupados = pd.read_csv(\"https://github.com/niconomist98/DataAnalyticsUQ/raw/refs/heads/main/Datos/GEIH2025/No%20ocupados.CSV\"\n",
    "                       ,encoding=\"latin\", sep= \";\") "
   ]
  },
  {
   "cell_type": "markdown",
   "id": "8073407e",
   "metadata": {},
   "source": [
    "1. Calculando la poblacion total de colombia y los otros datos solicitados"
   ]
  },
  {
   "cell_type": "code",
   "execution_count": 3,
   "id": "75e16ed8",
   "metadata": {},
   "outputs": [
    {
     "name": "stdout",
     "output_type": "stream",
     "text": [
      "Población total de colombia: 52045001\n"
     ]
    }
   ],
   "source": [
    "# 1. Calculando la poblacion total de colombia: \n",
    "ptc = df_cgsse[\"FEX_C18\"].sum()\n",
    "print('Población total de colombia:', int(ptc))"
   ]
  },
  {
   "cell_type": "code",
   "execution_count": 4,
   "id": "4e8d3730",
   "metadata": {},
   "outputs": [
    {
     "name": "stdout",
     "output_type": "stream",
     "text": [
      "La poblacion total sin edad para trabajar es: 11391585\n",
      "La poblacion total con edad para trabjar es: 40653416\n"
     ]
    }
   ],
   "source": [
    "#Poblacion en edad de trabajar \n",
    "\n",
    "sin_edad_trabajar = df_cgsse[df_cgsse['P6040']<15]['FEX_C18'].sum()\n",
    "edad_trabajar = df_cgsse[df_cgsse['P6040']>=15]['FEX_C18'].sum() #PET\n",
    "\n",
    "\n",
    "print('La poblacion total sin edad para trabajar es:',int(sin_edad_trabajar))\n",
    "print('La poblacion total con edad para trabjar es:',int(edad_trabajar))\n"
   ]
  },
  {
   "cell_type": "code",
   "execution_count": 5,
   "id": "50daba9a",
   "metadata": {},
   "outputs": [
    {
     "name": "stdout",
     "output_type": "stream",
     "text": [
      "La poblacion economicamente activa es: 25974846\n",
      "La poblacion economicamente inactiva es: 14678569\n"
     ]
    }
   ],
   "source": [
    "#Calculado ahora la poblacion economicamente activa\n",
    "#definimos como poblacion activamente economica como \n",
    "\n",
    "#Tenemos que usar el DSI dado que en el modulo de no ocupados contiene informacion de personas que no estan buscando trabajo \n",
    "#No ocupados para este analisis son los que estan buscando trabajo activamente DSI=1 \n",
    "pea = df_ocupado[\"FEX_C18\"].sum() + df_desocupados[df_desocupados['DSI']==1][\"FEX_C18\"].sum()\n",
    "\n",
    "#Tambien podriamos usar la variable FT=1 que es la fuerza de trabajo que cumple con las condiciones \n",
    "#Tiene trabajo o esta buscando trabajo\n",
    "\n",
    "#definimos la poblacion economicamente inactiva como\n",
    "#Usamos la columna FFT que son las personas fuera de la fuerza de trabajo \n",
    "pei = df_ft[df_ft['FFT']==1]['FEX_C18'].sum()\n",
    "\n",
    "print(f'La poblacion economicamente activa es:', int(pea))\n",
    "print(f'La poblacion economicamente inactiva es:', int(pei))"
   ]
  },
  {
   "cell_type": "code",
   "execution_count": 6,
   "id": "cab6072d",
   "metadata": {},
   "outputs": [
    {
     "name": "stdout",
     "output_type": "stream",
     "text": [
      "La tasa de ocupacion: 58.43%\n",
      "La tasa de desempleo es 8.55%\n"
     ]
    }
   ],
   "source": [
    "# Ahora vamos a calcular la tasa de ocupacion (TO)\n",
    "TO = (df_ocupado['FEX_C18'].sum() / edad_trabajar)\n",
    "\n",
    "print(f'La tasa de ocupacion: {TO:.2%}')\n",
    "\n",
    "#Calculando el desempleo (TD) tenemos que\n",
    "\n",
    "TD = (df_desocupados[df_desocupados['DSI']==1]['FEX_C18'].sum() / pea)\n",
    "print(f'La tasa de desempleo es {TD:.2%}')"
   ]
  },
  {
   "cell_type": "markdown",
   "id": "205c5592",
   "metadata": {},
   "source": [
    "2. Ahora vamos a calcular la tasa de desempleo para hombres y mujeres por departamento"
   ]
  },
  {
   "cell_type": "code",
   "execution_count": null,
   "id": "4135bd79",
   "metadata": {},
   "outputs": [
    {
     "name": "stdout",
     "output_type": "stream",
     "text": [
      "    DPTO     Sexo         TD\n",
      "0      5  Hombres   4.886691\n",
      "1      5  Mujeres   9.770415\n",
      "2      8  Hombres   6.301949\n",
      "3      8  Mujeres  10.232567\n",
      "4     11  Hombres   9.821256\n",
      "5     11  Mujeres   7.078481\n",
      "6     13  Hombres   4.791098\n",
      "7     13  Mujeres  12.028807\n",
      "8     15  Hombres   6.967972\n",
      "9     15  Mujeres   4.008697\n",
      "10    17  Hombres   5.583183\n",
      "11    17  Mujeres   7.677962\n",
      "12    18  Hombres   2.676220\n",
      "13    18  Mujeres  15.726909\n",
      "14    19  Hombres   3.390661\n",
      "15    19  Mujeres   5.146277\n",
      "16    20  Hombres   5.991357\n",
      "17    20  Mujeres  13.209651\n",
      "18    23  Hombres   5.832048\n",
      "19    23  Mujeres  19.837285\n"
     ]
    }
   ],
   "source": [
    "#Vamos a hacer un merge para que en el dataframe de desocupados quede genero\n",
    "#Muy importante no olvidar el DSI==1\n",
    "df_desocupados_gen = pd.merge(df_desocupados[df_desocupados[\"DSI\"]==1], df_cgsse[['DIRECTORIO','SECUENCIA_P','ORDEN','P3271']], \n",
    "    on=['DIRECTORIO','SECUENCIA_P','ORDEN'], how='left')\n",
    "#Ahora agrupamos el departamento y genero con el factor expansion\n",
    "desocupados_sexo = (df_desocupados_gen.groupby(['DPTO','P3271'])['FEX_C18'].sum().reset_index().rename(columns={'FEX_C18':'desocupados'}))\n",
    "#No olvidar el reset index para evitar errores y que sea mas facil de trabajar \n",
    "\n",
    "\n",
    "#Ahora ponemos el genero en los ocupados\n",
    "df_ocupados_gen = pd.merge(df_ocupado, df_cgsse[['DIRECTORIO','SECUENCIA_P','ORDEN','P3271']], \n",
    "    on=['DIRECTORIO','SECUENCIA_P','ORDEN'], how='left')\n",
    "#Aqui agrupamos departamento y genero con el factor de expension\n",
    "ocupados_sexo = (df_ocupados_gen.groupby(['DPTO','P3271'])['FEX_C18'].sum().reset_index().rename(columns={'FEX_C18':'ocupados'}))\n",
    "\n",
    "#Ocupados y Desocupados para poder sacar la PEA\n",
    "pea_genero = pd.merge(ocupados_sexo, desocupados_sexo, on=['DPTO','P3271'], how='outer').fillna(0) #Fillna para rellenar los espacios vacios\n",
    "pea_genero['PEA'] = pea_genero['ocupados'] + pea_genero['desocupados']\n",
    "\n",
    "#Tasa de desempleo\n",
    "pea_genero['TD'] = pea_genero['desocupados'] / pea_genero['PEA'] * 100\n",
    "\n",
    "#Ahora poniendo etiquetas para cambiar los valores en la columna\n",
    "# 1= Hombres 2=Mujeres\n",
    "pea_genero['Sexo'] = pea_genero['P3271'].map({1:'Hombres', 2:'Mujeres'})\n",
    "\n",
    "# Mostramos la tabla final\n",
    "print(pea_genero[['DPTO','Sexo','TD']].head(20))"
   ]
  },
  {
   "cell_type": "code",
   "execution_count": 13,
   "id": "6ffeb5db",
   "metadata": {},
   "outputs": [
    {
     "name": "stdout",
     "output_type": "stream",
     "text": [
      "Departamentos con MAYOR tasa de desempleo por sexo:\n",
      "    DPTO     Sexo         TD\n",
      "48    81  Hombres  18.057931\n",
      "49    81  Mujeres  31.660892\n",
      "Departamentos con MENOR tasa de desempleo por sexo:\n",
      "    DPTO     Sexo        TD\n",
      "56    91  Hombres  1.979606\n",
      "57    91  Mujeres  1.874288\n"
     ]
    }
   ],
   "source": [
    "#Ahora poniendolo en orden de mayor a menor\n",
    "td_max = pea_genero.loc[pea_genero.groupby(\"Sexo\")[\"TD\"].idxmax()]\n",
    "td_min = pea_genero.loc[pea_genero.groupby(\"Sexo\")[\"TD\"].idxmin()]\n",
    "\n",
    "print(\"Departamentos con MAYOR tasa de desempleo por sexo:\")\n",
    "print(td_max[['DPTO','Sexo','TD']])\n",
    "\n",
    "print(\"Departamentos con MENOR tasa de desempleo por sexo:\")\n",
    "print(td_min[['DPTO','Sexo','TD']])"
   ]
  },
  {
   "cell_type": "markdown",
   "id": "cda70e4f",
   "metadata": {},
   "source": [
    "Podemos ver que el departamento con mayor desempleo lo que va en el 2025 es Arauca y con menor desempleo es Amazonas"
   ]
  },
  {
   "cell_type": "markdown",
   "id": "06ecd42e",
   "metadata": {},
   "source": [
    "3. Tomando en consideración únicamente los siguientes grupos de edad: \n",
    "\n",
    "18 a 24,\n",
    "24 a 30,\n",
    "30 a 40,\n",
    "40 a 50,\n",
    "60 en adelante \n",
    "\n",
    "Para cada uno de los departamentos, cual es el grupo de edad con mayor y menor tasa de desempleo?\n"
   ]
  },
  {
   "cell_type": "code",
   "execution_count": null,
   "id": "05c5e654",
   "metadata": {},
   "outputs": [],
   "source": [
    "#Vamos a definir una funcion que nos permita dividir las edades por grupos determinados \n",
    "\n",
    "def clasificar_edad(x):\n",
    "    if 18 <= x < 24:\n",
    "        return \"18-24\"\n",
    "    elif 24 <= x < 30:\n",
    "        return \"24-30\"\n",
    "    elif 30 <= x < 40:\n",
    "        return \"30-40\"\n",
    "    elif 40 <= x < 50:\n",
    "        return \"40-50\"\n",
    "    elif x >= 60:\n",
    "        return \"60+\"\n",
    "    else:\n",
    "        return \"Otros\"  # Para menores de 18 y personas entre 50-59 que no entran"
   ]
  },
  {
   "cell_type": "code",
   "execution_count": 15,
   "id": "e9a4c7bb",
   "metadata": {},
   "outputs": [],
   "source": [
    "#Vamos a crear una columna llamda grupo de edad para meter la nuevea funcion y aplicarla \n",
    "df_cgsse[\"grupo_edad\"] = df_cgsse[\"P6040\"].apply(clasificar_edad)\n",
    "\n",
    "#metemos nuestra nueva columnda del grupo edad\n",
    "df_desocupados_gen = pd.merge(df_desocupados[df_desocupados[\"DSI\"]==1],df_cgsse[[\"DIRECTORIO\",\"SECUENCIA_P\",\"ORDEN\",\"grupo_edad\"]],\n",
    "    on=[\"DIRECTORIO\",\"SECUENCIA_P\",\"ORDEN\"],how=\"left\")\n",
    "desocupados_edad = (df_desocupados_gen.groupby([\"DPTO\",\"grupo_edad\"])[\"FEX_C18\"].sum().reset_index().rename(columns={\"FEX_C18\":\"desocupados\"}))\n",
    "\n",
    "#Hacemos nueva columna con edades determinadas\n",
    "df_ocupados_gen = pd.merge(df_ocupado,df_cgsse[[\"DIRECTORIO\",\"SECUENCIA_P\",\"ORDEN\",\"grupo_edad\"]],\n",
    "    on=[\"DIRECTORIO\",\"SECUENCIA_P\",\"ORDEN\"],how=\"left\")\n",
    "ocupados_edad = (df_ocupados_gen.groupby([\"DPTO\",\"grupo_edad\"])[\"FEX_C18\"].sum().reset_index().rename(columns={\"FEX_C18\":\"ocupados\"}))\n",
    "\n",
    "#Ahora calculando la pea y la td\n",
    "pea_edad = pd.merge(ocupados_edad, desocupados_edad, on=[\"DPTO\",\"grupo_edad\"], how=\"outer\").fillna(0)\n",
    "pea_edad[\"PEA\"] = pea_edad[\"ocupados\"] + pea_edad[\"desocupados\"]\n",
    "pea_edad[\"TD\"] = pea_edad[\"desocupados\"] / pea_edad[\"PEA\"] * 100"
   ]
  },
  {
   "cell_type": "code",
   "execution_count": 18,
   "id": "7d68c27f",
   "metadata": {},
   "outputs": [
    {
     "name": "stdout",
     "output_type": "stream",
     "text": [
      "Grupo con MAYOR tasa de desempleo por departamento:\n",
      "     DPTO grupo_edad         TD\n",
      "0       5      18-24  17.685962\n",
      "6       8      18-24  22.406918\n",
      "12     11      18-24  17.797990\n",
      "18     13      18-24  29.157386\n",
      "25     15      24-30  14.491221\n",
      "30     17      18-24   9.972584\n",
      "36     18      18-24  21.686963\n",
      "43     19      24-30   7.775308\n",
      "48     20      18-24  19.042303\n",
      "54     23      18-24  31.660884\n",
      "60     25      18-24  15.618810\n",
      "66     27      18-24  21.102675\n",
      "72     41      18-24  14.602874\n",
      "79     44      24-30  24.685637\n",
      "84     47      18-24  20.675536\n",
      "90     50      18-24  13.483416\n",
      "96     52      18-24  16.529172\n",
      "102    54      18-24  28.074930\n",
      "109    63      24-30  14.237924\n",
      "114    66      18-24  15.173556\n",
      "120    68      18-24  23.222696\n",
      "127    70      24-30  22.884184\n",
      "132    73      18-24  19.348020\n",
      "138    76      18-24  17.821703\n",
      "144    81      18-24  61.095429\n",
      "150    85      18-24  27.966955\n",
      "156    86      18-24  44.878068\n",
      "163    88      24-30  23.449477\n",
      "171    91      40-50   4.647341\n",
      "175    94      24-30  12.782858\n",
      "180    95      18-24  17.005129\n",
      "188    97      30-40   7.678632\n",
      "192    99      18-24  23.026006\n",
      "Grupo con MENOR tasa de desempleo por departamento:\n",
      "     DPTO grupo_edad         TD\n",
      "4       5        60+   1.199292\n",
      "9       8      40-50   4.082692\n",
      "16     11        60+   5.426223\n",
      "22     13        60+   2.222537\n",
      "28     15        60+   0.440514\n",
      "34     17        60+   4.060989\n",
      "40     18        60+   1.244864\n",
      "46     19        60+   0.539495\n",
      "52     20        60+   0.644501\n",
      "58     23        60+   4.322568\n",
      "64     25        60+   4.202708\n",
      "70     27        60+   6.162454\n",
      "76     41        60+   0.950585\n",
      "82     44        60+   0.466427\n",
      "88     47        60+   3.495022\n",
      "94     50        60+   3.972646\n",
      "100    52        60+   2.122516\n",
      "106    54        60+   4.730661\n",
      "111    63      40-50   6.506359\n",
      "118    66        60+   3.639861\n",
      "124    68        60+   4.564159\n",
      "130    70        60+   2.869353\n",
      "136    73        60+   9.458632\n",
      "142    76        60+   5.954849\n",
      "147    81      40-50  12.725505\n",
      "154    85        60+   0.000000\n",
      "158    86      30-40  10.837416\n",
      "165    88      40-50   6.261247\n",
      "168    91      18-24   0.000000\n",
      "178    94        60+   0.000000\n",
      "182    95      30-40   6.376562\n",
      "186    97      18-24   0.000000\n",
      "196    99        60+   0.000000\n"
     ]
    }
   ],
   "source": [
    "#Ahora filtamos solo para los grupos de nuestro interes \n",
    "pea_edad = pea_edad[pea_edad[\"grupo_edad\"].isin([\"18-24\",\"24-30\",\"30-40\",\"40-50\",\"60+\"])] \n",
    "\n",
    "#Ahora filtramos por departamento para mayores y menores con .idxmax e .idxmin\n",
    "mayores = pea_edad.loc[pea_edad.groupby(\"DPTO\")[\"TD\"].idxmax()]\n",
    "menores = pea_edad.loc[pea_edad.groupby(\"DPTO\")[\"TD\"].idxmin()]\n",
    "\n",
    "print(\"Grupo con MAYOR tasa de desempleo por departamento:\")\n",
    "print(mayores[[\"DPTO\",\"grupo_edad\",\"TD\"]])\n",
    "\n",
    "print(\"Grupo con MENOR tasa de desempleo por departamento:\")\n",
    "print(menores[[\"DPTO\",\"grupo_edad\",\"TD\"]])"
   ]
  },
  {
   "cell_type": "markdown",
   "id": "87fce3a4",
   "metadata": {},
   "source": [
    "En la mayoría de los departamentos, el grupo con mayor tasa de desempleo corresponde a los jóvenes de 18 a 24 años, lo que refleja las dificultades de inserción laboral de esta población."
   ]
  },
  {
   "cell_type": "markdown",
   "id": "bef61c66",
   "metadata": {},
   "source": [
    "4. ¿Cuáles son los 3 departamentos con menor tasa de desempleo de mujeres entre los 18 y los 25 años ? "
   ]
  },
  {
   "cell_type": "code",
   "execution_count": 23,
   "id": "f2c21e01",
   "metadata": {},
   "outputs": [
    {
     "name": "stdout",
     "output_type": "stream",
     "text": [
      "    DPTO      ocupadas   desocupadas            PEA         TD\n",
      "30    95   1218.212804    649.874589    1868.087394  34.788233\n",
      "10    25  98335.776355  57867.376219  156203.152574  37.046228\n",
      "32    99    510.425025    365.704182     876.129207  41.740896\n"
     ]
    }
   ],
   "source": [
    "#Vamos a filtrar para las mujeres entre 18 y 25 años\n",
    "# Paso 1: crear grupos de edad\n",
    "df_cgsse[\"grupo_edad\"] = df_cgsse[\"P6040\"].apply(clasificar_edad)\n",
    "\n",
    "#usamos el df_ocupados_gen, ya creado anteriormente pero poniendo el p3271\n",
    "\n",
    "df_ocupados_gen2 = pd.merge(df_ocupado,df_cgsse[[\"DIRECTORIO\",\"SECUENCIA_P\",\"ORDEN\",\"P3271\",\"grupo_edad\"]],\n",
    "    on=[\"DIRECTORIO\",\"SECUENCIA_P\",\"ORDEN\"],how=\"left\")\n",
    "ocupados_edad = (df_ocupados_gen2.groupby([\"DPTO\",\"P3271\"])[\"FEX_C18\"].sum().reset_index().rename(columns={\"FEX_C18\":\"ocupados\"}))\n",
    "\n",
    "#Lo mismo con los desocupados\n",
    "\n",
    "df_desocupados_gen2 = pd.merge(df_desocupados,df_cgsse[[\"DIRECTORIO\",\"SECUENCIA_P\",\"ORDEN\",\"P3271\",\"grupo_edad\"]],\n",
    "    on=[\"DIRECTORIO\",\"SECUENCIA_P\",\"ORDEN\"],how=\"left\")\n",
    "ocupados_edad = (df_ocupados_gen2.groupby([\"DPTO\",\"P3271\"])[\"FEX_C18\"].sum().reset_index().rename(columns={\"FEX_C18\":\"ocupados\"}))\n",
    "\n",
    "#Aqui ya aplicamos el filtro\n",
    "df_mujeres_oc = df_ocupados_gen2[(df_ocupados_gen2[\"P3271\"]==2) & (df_ocupados_gen2[\"grupo_edad\"]==\"18-24\")]\n",
    "df_mujeres_des = df_desocupados_gen2[(df_desocupados_gen2[\"P3271\"]==2) & (df_desocupados_gen2[\"grupo_edad\"]==\"18-24\")]\n",
    "\n",
    "#Agrupamos por departamento\n",
    "ocupadas = df_mujeres_oc.groupby(\"DPTO\")[\"FEX_C18\"].sum().reset_index().rename(columns={\"FEX_C18\":\"ocupadas\"})\n",
    "desocupadas = df_mujeres_des.groupby(\"DPTO\")[\"FEX_C18\"].sum().reset_index().rename(columns={\"FEX_C18\":\"desocupadas\"})\n",
    "\n",
    "#Ahora con esto calculamos la pea y el td\n",
    "pea = pd.merge(ocupadas, desocupadas, on=\"DPTO\", how=\"outer\").fillna(0)\n",
    "pea[\"PEA\"] = pea[\"ocupadas\"] + pea[\"desocupadas\"]\n",
    "pea[\"TD\"] = pea[\"desocupadas\"] / pea[\"PEA\"] * 100\n",
    "\n",
    "#Y mostramos los tres de menor valor\n",
    "td_mujeres_min = pea.sort_values(\"TD\").head(3)\n",
    "print(td_mujeres_min)"
   ]
  },
  {
   "cell_type": "markdown",
   "id": "8ebf2a97",
   "metadata": {},
   "source": [
    "Las mujeres con menor tasa de desempleo son las de Vaupes, Amazonas y Quindio "
   ]
  },
  {
   "cell_type": "markdown",
   "id": "38f8cb1e",
   "metadata": {},
   "source": [
    "5. Calcule el promedio de ingresos laborales  de las personas residentes en los departamentos de Risaralda, Caldas , Quindío, Antioquia y Valle del Cauca."
   ]
  },
  {
   "cell_type": "code",
   "execution_count": 25,
   "id": "9926fbdd",
   "metadata": {},
   "outputs": [
    {
     "name": "stdout",
     "output_type": "stream",
     "text": [
      "      Departamento Ingreso_promedio\n",
      "0        Antioquia        2,090,819\n",
      "1           Caldas        1,958,683\n",
      "2          Quindío        1,637,336\n",
      "3        Risaralda        1,621,205\n",
      "4  Valle del Cauca        1,698,392\n"
     ]
    }
   ],
   "source": [
    "#definimos los departamentos a usar \n",
    "deptos_interes = [66, 17, 63, 5, 76]  # 66=Risaralda, 17=Caldas, 63=Quindío, 5=Antioquia, 76=Valle del Cauca\n",
    "\n",
    "df_ingresos = df_ocupado[df_ocupado[\"DPTO\"].isin(deptos_interes)]\n",
    "\n",
    "# Aqui calculamos el promedio ponderado de ingresos con la variable INGLABO\n",
    "promedios_ingresos = (\n",
    "    df_ingresos.groupby(\"DPTO\")[[\"INGLABO\",\"FEX_C18\"]]\n",
    "    .apply(lambda x: (x[\"INGLABO\"] * x[\"FEX_C18\"]).sum() / x[\"FEX_C18\"].sum())\n",
    "    .reset_index(name=\"Ingreso_promedio\")\n",
    ")\n",
    "\n",
    "#Vamos a cambiar los numeros cientificos por numero entero\n",
    "promedios_ingresos[\"Ingreso_promedio\"] = promedios_ingresos[\"Ingreso_promedio\"].map(\"{:,.0f}\".format)\n",
    "\n",
    "# Reemplazar códigos de departamentos por nombres\n",
    "mapa_dptos = {66:\"Risaralda\", 17:\"Caldas\", 63:\"Quindío\", 5:\"Antioquia\", 76:\"Valle del Cauca\"}\n",
    "promedios_ingresos[\"Departamento\"] = promedios_ingresos[\"DPTO\"].map(mapa_dptos)\n",
    "\n",
    "# Reordenar columnas\n",
    "promedios_ingresos = promedios_ingresos[[\"Departamento\",\"Ingreso_promedio\"]]\n",
    "\n",
    "print(promedios_ingresos)"
   ]
  },
  {
   "cell_type": "markdown",
   "id": "596613ba",
   "metadata": {},
   "source": [
    "Lo resultados dan que los ingresos promedio para Antioquia son 2.090.819 pesos, para Caldas son 1.958.683 pesos, para quindio 1.637.336, para Risaralda 1.621.205 y para el valle del cauca 1.698.392, dandonos asi que el mayor ingreso promedio es para Antioquia y el menor para Risaralda"
   ]
  },
  {
   "cell_type": "markdown",
   "id": "30617866",
   "metadata": {},
   "source": [
    "6. Para los mismos departamentos del punto anterior, calcule el promedio de ingresos laborales de hombres y mujeres en los siguientes rangos de edad : \n",
    "18 a 24,\n",
    "24 a 30,\n",
    "30 a 40,\n",
    "40 a 50 ,\n",
    "60 en adelante \n"
   ]
  },
  {
   "cell_type": "code",
   "execution_count": 26,
   "id": "5d6a81eb",
   "metadata": {},
   "outputs": [],
   "source": [
    "#Vamos a aplicar un dataframe filtrado solo con los deptos de interes\n",
    "df_filtrado = df_ocupados_gen2[df_ocupados_gen2[\"DPTO\"].isin(deptos_interes)]"
   ]
  },
  {
   "cell_type": "code",
   "execution_count": 34,
   "id": "7f0d7318",
   "metadata": {},
   "outputs": [
    {
     "name": "stdout",
     "output_type": "stream",
     "text": [
      "       Departamento grupo_edad Ingreso_promedio\n",
      "0         Antioquia      18-24        1,364,005\n",
      "1         Antioquia      24-30        1,828,144\n",
      "2         Antioquia      30-40        2,159,206\n",
      "3         Antioquia      40-50        2,771,747\n",
      "4         Antioquia        60+        1,738,620\n",
      "5         Antioquia      Otros        2,554,671\n",
      "6         Antioquia      18-24        1,418,639\n",
      "7         Antioquia      24-30        1,837,916\n",
      "8         Antioquia      30-40        2,291,801\n",
      "9         Antioquia      40-50        2,111,094\n",
      "10        Antioquia        60+        1,510,449\n",
      "11        Antioquia      Otros        1,790,046\n",
      "12           Caldas      18-24        2,216,063\n",
      "13           Caldas      24-30        1,754,677\n",
      "14           Caldas      30-40        1,762,301\n",
      "15           Caldas      40-50        2,470,039\n",
      "16           Caldas        60+        2,309,864\n",
      "17           Caldas      Otros        1,669,417\n",
      "18           Caldas      18-24        1,133,456\n",
      "19           Caldas      24-30        1,832,716\n",
      "20           Caldas      30-40        1,990,588\n",
      "21           Caldas      40-50        2,186,629\n",
      "22           Caldas        60+        1,669,178\n",
      "23           Caldas      Otros        1,928,922\n",
      "24          Quindío      18-24        1,239,935\n",
      "25          Quindío      24-30        1,557,871\n",
      "26          Quindío      30-40        1,809,207\n",
      "27          Quindío      40-50        1,839,862\n",
      "28          Quindío        60+        1,410,973\n",
      "29          Quindío      Otros        1,640,317\n",
      "30          Quindío      18-24        1,172,009\n",
      "31          Quindío      24-30        1,641,198\n",
      "32          Quindío      30-40        1,855,492\n",
      "33          Quindío      40-50        1,793,375\n",
      "34          Quindío        60+        1,067,661\n",
      "35          Quindío      Otros        1,610,733\n",
      "36        Risaralda      18-24        1,480,345\n",
      "37        Risaralda      24-30        1,819,399\n",
      "38        Risaralda      30-40        1,860,253\n",
      "39        Risaralda      40-50        1,849,293\n",
      "40        Risaralda        60+        1,268,579\n",
      "41        Risaralda      Otros        1,773,538\n",
      "42        Risaralda      18-24        1,287,762\n",
      "43        Risaralda      24-30        1,536,785\n",
      "44        Risaralda      30-40        1,520,825\n",
      "45        Risaralda      40-50        1,774,626\n",
      "46        Risaralda        60+          763,308\n",
      "47        Risaralda      Otros        1,480,532\n",
      "48  Valle del Cauca      18-24        1,358,696\n",
      "49  Valle del Cauca      24-30        1,788,780\n",
      "50  Valle del Cauca      30-40        1,872,074\n",
      "51  Valle del Cauca      40-50        2,243,409\n",
      "52  Valle del Cauca        60+        1,358,746\n",
      "53  Valle del Cauca      Otros        1,886,360\n",
      "54  Valle del Cauca      18-24        1,061,335\n",
      "55  Valle del Cauca      24-30        1,720,800\n",
      "56  Valle del Cauca      30-40        1,841,891\n",
      "57  Valle del Cauca      40-50        1,767,989\n",
      "58  Valle del Cauca        60+          717,413\n",
      "59  Valle del Cauca      Otros        1,454,820\n"
     ]
    }
   ],
   "source": [
    "# Aqui calculamos el promedio ponderado de ingresos con la variable INGLABO en los departamentos de interes\n",
    "promedios_ingresos_dtos = (\n",
    "    df_filtrado.groupby([\"DPTO\",\"P3271\",\"grupo_edad\"])[[\"INGLABO\",\"FEX_C18\"]]\n",
    "      .apply(lambda g: (g[\"INGLABO\"] * g[\"FEX_C18\"]).sum() / g[\"FEX_C18\"].sum())\n",
    "      .reset_index(name=\"Ingreso_promedio\")\n",
    ")\n",
    "\n",
    "\n",
    "#Vamos a cambiar los numeros cientificos por numero entero\n",
    "promedios_ingresos_dtos[\"Ingreso_promedio\"] = promedios_ingresos_dtos[\"Ingreso_promedio\"].map(\"{:,.0f}\".format)\n",
    "\n",
    "# Reemplazar códigos de departamentos por nombres\n",
    "mapa_dptos = {66:\"Risaralda\", 17:\"Caldas\", 63:\"Quindío\", 5:\"Antioquia\", 76:\"Valle del Cauca\"}\n",
    "promedios_ingresos_dtos[\"Departamento\"] = promedios_ingresos_dtos[\"DPTO\"].map(mapa_dptos)\n",
    "\n",
    "# Reordenar columnas\n",
    "promedios_ingresos_dtos = promedios_ingresos_dtos[[\"Departamento\",\"grupo_edad\",\"Ingreso_promedio\"]]\n",
    "\n",
    "print(promedios_ingresos_dtos)"
   ]
  }
 ],
 "metadata": {
  "kernelspec": {
   "display_name": "Python 3",
   "language": "python",
   "name": "python3"
  },
  "language_info": {
   "codemirror_mode": {
    "name": "ipython",
    "version": 3
   },
   "file_extension": ".py",
   "mimetype": "text/x-python",
   "name": "python",
   "nbconvert_exporter": "python",
   "pygments_lexer": "ipython3",
   "version": "3.12.1"
  }
 },
 "nbformat": 4,
 "nbformat_minor": 5
}

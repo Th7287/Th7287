{
 "cells": [
  {
   "cell_type": "code",
   "execution_count": null,
   "id": "0e354074",
   "metadata": {},
   "outputs": [],
   "source": [
    "#Importando las librerias con las que vamos a trabjar la geih\n",
    "import pandas as pd \n",
    "import numpy as np"
   ]
  },
  {
   "cell_type": "code",
   "execution_count": 20,
   "id": "950d66eb",
   "metadata": {},
   "outputs": [
    {
     "name": "stderr",
     "output_type": "stream",
     "text": [
      "/tmp/ipykernel_18405/2365468199.py:4: DtypeWarning: Columns (21) have mixed types. Specify dtype option on import or set low_memory=False.\n",
      "  df_ft = pd.read_csv(\"https://github.com/niconomist98/DataAnalyticsUQ/raw/refs/heads/main/Datos/GEIH2024/Fuerza%20de%20trabajo.CSV\"\n",
      "/tmp/ipykernel_18405/2365468199.py:6: DtypeWarning: Columns (28,89,135,150,161) have mixed types. Specify dtype option on import or set low_memory=False.\n",
      "  df_ocuapdo = pd.read_csv(\"https://github.com/niconomist98/DataAnalyticsUQ/raw/refs/heads/main/Datos/GEIH2024/Ocupados.CSV\"\n"
     ]
    }
   ],
   "source": [
    "#Leyendo los datos de la geih a patir del repositorio del profesor \n",
    "df_cgsse = pd.read_csv(\"https://raw.githubusercontent.com/niconomist98/DataAnalyticsUQ/refs/heads/main/Datos/GEIH2024/CGSSE.CSV\"\n",
    "                       ,encoding=\"latin\", sep= \";\") \n",
    "df_ft = pd.read_csv(\"https://github.com/niconomist98/DataAnalyticsUQ/raw/refs/heads/main/Datos/GEIH2024/Fuerza%20de%20trabajo.CSV\"\n",
    "                       ,encoding=\"latin\", sep= \";\") \n",
    "df_ocuapdo = pd.read_csv(\"https://github.com/niconomist98/DataAnalyticsUQ/raw/refs/heads/main/Datos/GEIH2024/Ocupados.CSV\"\n",
    "                       ,encoding=\"latin\", sep= \";\") \n",
    "df_no_ocupados = pd.read_csv(\"https://github.com/niconomist98/DataAnalyticsUQ/raw/refs/heads/main/Datos/GEIH2024/No%20ocupados.CSV\"\n",
    "                       ,encoding=\"latin\", sep= \";\") "
   ]
  },
  {
   "cell_type": "code",
   "execution_count": null,
   "id": "9a45d449",
   "metadata": {},
   "outputs": [],
   "source": []
  }
 ],
 "metadata": {
  "kernelspec": {
   "display_name": "Python 3",
   "language": "python",
   "name": "python3"
  },
  "language_info": {
   "codemirror_mode": {
    "name": "ipython",
    "version": 3
   },
   "file_extension": ".py",
   "mimetype": "text/x-python",
   "name": "python",
   "nbconvert_exporter": "python",
   "pygments_lexer": "ipython3",
   "version": "3.12.1"
  }
 },
 "nbformat": 4,
 "nbformat_minor": 5
}

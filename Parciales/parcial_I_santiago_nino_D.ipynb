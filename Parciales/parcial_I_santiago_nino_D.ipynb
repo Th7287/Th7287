{
 "cells": [
  {
   "cell_type": "markdown",
   "id": "20e6b4c2",
   "metadata": {},
   "source": [
    "Hecho por: Santiago Niño Duque "
   ]
  },
  {
   "cell_type": "code",
   "execution_count": 2,
   "id": "76ead7d0",
   "metadata": {},
   "outputs": [],
   "source": [
    "#Vamos a importar las librerias y la base de datos del repositorio del profesor \n",
    "import pandas as pd\n",
    "import numpy as np"
   ]
  },
  {
   "cell_type": "code",
   "execution_count": 3,
   "id": "9e50b050",
   "metadata": {},
   "outputs": [],
   "source": [
    "#factor de expancion es F_EXP\n",
    "df_emicron=pd.read_csv(\"https://github.com/niconomist98/DataAnalyticsUQ/raw/refs/heads/main/Datos/EMICRON/emicron_identificacion.csv\", encoding=\"latin\", sep=\",\")"
   ]
  },
  {
   "cell_type": "code",
   "execution_count": 4,
   "id": "2842b67e",
   "metadata": {},
   "outputs": [
    {
     "name": "stdout",
     "output_type": "stream",
     "text": [
      "Micronegocios en colombia: 5297251\n"
     ]
    }
   ],
   "source": [
    "#Determinamos los micronegocios en colombia\n",
    "total = df_emicron[\"F_EXP\"].sum()\n",
    "print(\"Micronegocios en colombia:\", int(total))\n",
    "\n",
    "#Se tiene en cuenta tambien que un micronegocio es aquel que con menos de 9 ocupados, formal o informal, con bienes o servicios busca generar ingresos"
   ]
  },
  {
   "cell_type": "markdown",
   "id": "ab2a6a0f",
   "metadata": {},
   "source": [
    "PREGUNTAS:\n",
    "\n",
    "1. ¿Cuantos micronegocios existen en el quindio cuyos propietarios son hombres del quindio son entre 18 y 30 años ?"
   ]
  },
  {
   "cell_type": "code",
   "execution_count": 5,
   "id": "66c85079",
   "metadata": {},
   "outputs": [
    {
     "data": {
      "text/plain": [
       "Index(['DIRECTORIO', 'SECUENCIA_P', 'SECUENCIA_ENCUESTA', 'COD_DEPTO', 'AREA',\n",
       "       'CLASE_TE', 'P35', 'P241', 'MES_REF', 'P3031', 'P3032_1', 'P3032_2',\n",
       "       'P3032_3', 'P3033', 'P3034', 'P3035', 'P3000', 'GRUPOS4', 'GRUPOS12',\n",
       "       'F_EXP'],\n",
       "      dtype='object')"
      ]
     },
     "execution_count": 5,
     "metadata": {},
     "output_type": "execute_result"
    }
   ],
   "source": [
    "#Primero tenemos que determinar si estan las variables que necesitamos \n",
    "df_emicron.columns"
   ]
  },
  {
   "cell_type": "markdown",
   "id": "9fc4f485",
   "metadata": {},
   "source": [
    "Como podemos ver estan las variables P35, P241 y COD_DEPTO, que son las necesarias de manera tal que, P35 es sexo del propietario del micronegocio, P241 la edad y COD_DEPTO son los departamentos"
   ]
  },
  {
   "cell_type": "code",
   "execution_count": null,
   "id": "f92f9f75",
   "metadata": {},
   "outputs": [
    {
     "name": "stdout",
     "output_type": "stream",
     "text": [
      "Micronegocios en Quindío con propietarios hombres de 18 a 30 años: 1929\n"
     ]
    }
   ],
   "source": [
    "#Ahora vamos a filtrar nuestros datos con los requisitos\n",
    "micronegocioF = df_emicron[(df_emicron[\"COD_DEPTO\"] == 63) & (df_emicron[\"P35\"] == 1) & (df_emicron[\"P241\"].between(18, 30))]\n",
    "\n",
    "\n",
    "# Calcular micronegocios expandidos\n",
    "totalquindiohombres_1830 = micronegocioF[\"F_EXP\"].sum()\n",
    "\n",
    "print(f\"Micronegocios en Quindío con propietarios hombres de 18 a 30 años:\", int(totalquindiohombres_1830))"
   ]
  },
  {
   "cell_type": "markdown",
   "id": "0df354a2",
   "metadata": {},
   "source": [
    "2. ¿Cuantos micronegocios de la industria manufacturera existen en el departanmento de risaralda, cuyos propietarias son mujeres entre los 20 y 30 años?"
   ]
  },
  {
   "cell_type": "code",
   "execution_count": 16,
   "id": "86e0f4f3",
   "metadata": {},
   "outputs": [
    {
     "name": "stdout",
     "output_type": "stream",
     "text": [
      "Micronegocios de la industria manufacturera en Risaralda que son de mujeres entre los 20 y 30: 471\n"
     ]
    }
   ],
   "source": [
    "#Ya sabemos que tenemos las variables de interes pero tenemos que agregar la variable GRUPOS4 que nos permite saber de que sector es la microempresa\n",
    "#GRUPO4=2 Industria manufacturera \n",
    "\n",
    "#Ahora agregamos esto a nuestro codigo pero cambiamos el P35 a 2 para referirnos a mujeres y el DPTO a 66 para referirnos a Risaralda \n",
    "micronegocio_manu_FR = df_emicron[(df_emicron[\"COD_DEPTO\"] == 66) & (df_emicron[\"P35\"] == 2) & (df_emicron[\"P241\"].between(20, 30)) & \n",
    "                                  (df_emicron['GRUPOS4'] == 2)]\n",
    "\n",
    "\n",
    "# Calcular micronegocios expandidos\n",
    "total_microMFR = micronegocio_manu_FR[\"F_EXP\"].sum()\n",
    "\n",
    "print(f\"Micronegocios de la industria manufacturera en Risaralda que son de mujeres entre los 20 y 30:\", int(total_microMFR))"
   ]
  },
  {
   "cell_type": "markdown",
   "id": "ee622629",
   "metadata": {},
   "source": [
    "3. ¿Entre las cuidades de manizales, pereira y armenia. Cual de las 3 tiene mas micronegocios del sector comercio, cuyas propetarias son mujeres mayores a 40 años?"
   ]
  },
  {
   "cell_type": "code",
   "execution_count": 29,
   "id": "0c22f0bb",
   "metadata": {},
   "outputs": [
    {
     "name": "stdout",
     "output_type": "stream",
     "text": [
      "Los micronegocios de Pereira con las caracteristicas son: 3827\n",
      "Los micronegocios de Armenia con las caracteristicas son: 2557\n",
      "Los micronegocios de Manizales con las caracteristicas son: 2636\n",
      "\n",
      "La ciudad capital del eje cafetero que tiene mas micronegocios en el comercio con dueñas mayores a 40 años es PEREIRA\n"
     ]
    }
   ],
   "source": [
    "#Ahora repetiremos el proceso del punto anterior pero con las caracteristicas determinadas\n",
    "#GRUPO4 = 3 para el comercio y usamos AREA para las ciudades de interes\n",
    "#Primero con pereira\n",
    "micronegocio_com_FP40 = df_emicron[(df_emicron[\"AREA\"] == 66) & (df_emicron[\"P35\"] == 2) & (df_emicron[\"P241\"] > 40) & \n",
    "                                  (df_emicron['GRUPOS4'] == 3)]\n",
    "\n",
    "total_microCOFP40 = micronegocio_com_FP40['F_EXP'].sum()\n",
    "\n",
    "print(f'Los micronegocios de Pereira con las caracteristicas son:', int(total_microCOFP40))\n",
    "\n",
    "#Ahora con Armenia\n",
    "micronegocio_com_FA40 = df_emicron[(df_emicron[\"AREA\"] == 63) & (df_emicron[\"P35\"] == 2) & (df_emicron[\"P241\"] > 40) & \n",
    "                                  (df_emicron['GRUPOS4'] == 3)]\n",
    "\n",
    "total_microCOFA40 = micronegocio_com_FA40['F_EXP'].sum()\n",
    "\n",
    "print(f'Los micronegocios de Armenia con las caracteristicas son:', int(total_microCOFA40))\n",
    "\n",
    "#Ahora con manizales \n",
    "micronegocio_com_FM40 = df_emicron[(df_emicron[\"AREA\"] == 17) & (df_emicron[\"P35\"] == 2) & (df_emicron[\"P241\"] > 40) & \n",
    "                                  (df_emicron['GRUPOS4'] == 3)]\n",
    "\n",
    "total_microCOFM40 = micronegocio_com_FM40['F_EXP'].sum()\n",
    "\n",
    "print(f'Los micronegocios de Manizales con las caracteristicas son:', int(total_microCOFM40))\n",
    "print()\n",
    "print(f'La ciudad capital del eje cafetero que tiene mas micronegocios en el comercio con dueñas mayores a 40 años es PEREIRA')"
   ]
  },
  {
   "cell_type": "markdown",
   "id": "c01a3d36",
   "metadata": {},
   "source": [
    "4. ¿En la cuidad de armenia, cuantos micronegocios hay cuyos propetrios son hombres que no tiene nombre comercial?"
   ]
  },
  {
   "cell_type": "code",
   "execution_count": 32,
   "id": "61daef17",
   "metadata": {},
   "outputs": [
    {
     "name": "stdout",
     "output_type": "stream",
     "text": [
      "En la ciudad de Armenia hay un total de 11603 micronegocios de propietarios hombres que no tiene nombre comercial\n"
     ]
    }
   ],
   "source": [
    "#Ahora vamos a usar una nueva variable la cual es P3035 que nos determina si tiene nombre comercial o no \n",
    "# 1 para si y 2 para no\n",
    "\n",
    "micronegocioNN = df_emicron[(df_emicron[\"AREA\"] == 63) & (df_emicron[\"P35\"] == 1) & (df_emicron[\"P3035\"] == 2)]\n",
    "total_microNN = micronegocioNN['F_EXP'].sum()\n",
    "\n",
    "print(f'En la ciudad de Armenia hay un total de', int(total_microNN), f'micronegocios de propietarios hombres que no tiene nombre comercial')"
   ]
  }
 ],
 "metadata": {
  "kernelspec": {
   "display_name": "Python 3",
   "language": "python",
   "name": "python3"
  },
  "language_info": {
   "codemirror_mode": {
    "name": "ipython",
    "version": 3
   },
   "file_extension": ".py",
   "mimetype": "text/x-python",
   "name": "python",
   "nbconvert_exporter": "python",
   "pygments_lexer": "ipython3",
   "version": "3.12.1"
  }
 },
 "nbformat": 4,
 "nbformat_minor": 5
}
